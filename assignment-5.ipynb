{
 "cells": [
  {
   "cell_type": "code",
   "execution_count": null,
   "id": "69764923",
   "metadata": {},
   "outputs": [],
   "source": [
    "# Assignment -5\n",
    "#1. Define a function which will return Max of three numbers "
   ]
  },
  {
   "cell_type": "code",
   "execution_count": 20,
   "id": "6ad39ca3",
   "metadata": {},
   "outputs": [],
   "source": [
    "a=10\n",
    "b=15\n",
    "c=18\n",
    "def max(a,b,c):\n",
    "    if (a>=b)and(a>=c):\n",
    "        largest= a\n",
    "    elif (b>=a)and(b>=c):\n",
    "        largest= b\n",
    "    else:\n",
    "        largest= c\n",
    "    return largest"
   ]
  },
  {
   "cell_type": "code",
   "execution_count": 21,
   "id": "69aa05a7",
   "metadata": {},
   "outputs": [
    {
     "data": {
      "text/plain": [
       "18"
      ]
     },
     "execution_count": 21,
     "metadata": {},
     "output_type": "execute_result"
    }
   ],
   "source": [
    "max(a,b,c)"
   ]
  },
  {
   "cell_type": "code",
   "execution_count": null,
   "id": "a5378852",
   "metadata": {},
   "outputs": [],
   "source": [
    "#2. Define a Python Function to reverse a string"
   ]
  },
  {
   "cell_type": "code",
   "execution_count": 7,
   "id": "7da397ab",
   "metadata": {},
   "outputs": [
    {
     "name": "stdout",
     "output_type": "stream",
     "text": [
      "enter correct s : innomatics\n",
      "enter incorrect s : scitamonni\n"
     ]
    }
   ],
   "source": [
    "def reverse(x):\n",
    "    s=\"\"\n",
    "    for i in x:\n",
    "        s= i+s\n",
    "    return s\n",
    "x=\"innomatics\"\n",
    "print(\"enter correct s :\", end=\" \")\n",
    "print(x)\n",
    "print(\"enter incorrect s :\", end=\" \")\n",
    "print(reverse(x))"
   ]
  },
  {
   "cell_type": "code",
   "execution_count": null,
   "id": "6ccdeaf3",
   "metadata": {},
   "outputs": [],
   "source": [
    "#3 Write a Python program to define a function that accepts 2 values and return its sum, subtraction and multiplication. "
   ]
  },
  {
   "cell_type": "code",
   "execution_count": 20,
   "id": "67a7f11f",
   "metadata": {},
   "outputs": [],
   "source": [
    "def cal(num1,num2):\n",
    "    print(\"addition\",num1+num2)\n",
    "    print(\"multiplication\",num1*num2)\n",
    "    print(\"subtraction\",num1-num2)"
   ]
  },
  {
   "cell_type": "code",
   "execution_count": 21,
   "id": "039e9af1",
   "metadata": {},
   "outputs": [
    {
     "name": "stdout",
     "output_type": "stream",
     "text": [
      "addition 20\n",
      "multiplication 75\n",
      "subtraction -10\n"
     ]
    }
   ],
   "source": [
    "cal(5,15)\n"
   ]
  },
  {
   "cell_type": "code",
   "execution_count": null,
   "id": "ed9f8971",
   "metadata": {},
   "outputs": [],
   "source": [
    "#4. Define a function that accepts roll number and returns whether the student is present or absent."
   ]
  },
  {
   "cell_type": "code",
   "execution_count": 44,
   "id": "90a4ef17",
   "metadata": {},
   "outputs": [],
   "source": [
    "def rollno(s1):\n",
    "    s2=[1,2,4,6,8,9]\n",
    "    if s1==s2:\n",
    "        print(\"present\")\n",
    "    else:\n",
    "        print(\"absent\")\n",
    "    \n",
    "    "
   ]
  },
  {
   "cell_type": "code",
   "execution_count": 45,
   "id": "18c72d8c",
   "metadata": {},
   "outputs": [
    {
     "name": "stdout",
     "output_type": "stream",
     "text": [
      "absent\n"
     ]
    }
   ],
   "source": [
    "rollno(7)"
   ]
  },
  {
   "cell_type": "code",
   "execution_count": null,
   "id": "bf112eee",
   "metadata": {},
   "outputs": [],
   "source": [
    "#5. Define a function in python that accepts n values and returns the maximum of n numbers"
   ]
  },
  {
   "cell_type": "code",
   "execution_count": null,
   "id": "b025cb51",
   "metadata": {},
   "outputs": [],
   "source": [
    "def max(n):\n",
    "    for i in range(n):\n",
    "        n=(1,2,10,50,80,5,3,6)\n",
    "        \n",
    "        "
   ]
  },
  {
   "cell_type": "code",
   "execution_count": 66,
   "id": "355c5165",
   "metadata": {},
   "outputs": [],
   "source": [
    "def max(n):\n",
    "    x=0\n",
    "    for i in n:\n",
    "        if i>x:\n",
    "            x=i\n",
    "    print(x)\n"
   ]
  },
  {
   "cell_type": "code",
   "execution_count": 67,
   "id": "c856262b",
   "metadata": {},
   "outputs": [
    {
     "name": "stdout",
     "output_type": "stream",
     "text": [
      "80\n"
     ]
    }
   ],
   "source": [
    "max([1,3,5,7,9,80,56,49,55,60])"
   ]
  },
  {
   "cell_type": "code",
   "execution_count": null,
   "id": "d42115b6",
   "metadata": {},
   "outputs": [],
   "source": [
    "#6. Define a function which counts vowels and consonant in a word. "
   ]
  },
  {
   "cell_type": "code",
   "execution_count": 76,
   "id": "ce673829",
   "metadata": {},
   "outputs": [],
   "source": [
    "def alphabets(x):\n",
    "    vowels=0\n",
    "    conson=0\n",
    "    for i in x:\n",
    "        if i==\"a\" or i==\"e\" or i==\"i\" or i==\"o\" or i==\"u\":\n",
    "            vowels+=1\n",
    "        else:\n",
    "            conson+=1\n",
    "    print(\"count of vowels:\",vowels)\n",
    "    print(\"count of conson:\",conson)\n"
   ]
  },
  {
   "cell_type": "code",
   "execution_count": 77,
   "id": "b828a8c0",
   "metadata": {},
   "outputs": [
    {
     "name": "stdout",
     "output_type": "stream",
     "text": [
      "count of vowels: 8\n",
      "count of conson: 14\n"
     ]
    }
   ],
   "source": [
    "alphabets(\"innomatisjntuhyderabad\")"
   ]
  },
  {
   "cell_type": "code",
   "execution_count": null,
   "id": "7d8cff83",
   "metadata": {},
   "outputs": [],
   "source": [
    "#7. Define a function that returns Factorial of a number"
   ]
  },
  {
   "cell_type": "code",
   "execution_count": 3,
   "id": "07460880",
   "metadata": {},
   "outputs": [],
   "source": [
    "def facto(num):\n",
    "    f=1\n",
    "    for num in range(1,num+1):\n",
    "        f*=num\n",
    "    return f\n",
    "        "
   ]
  },
  {
   "cell_type": "code",
   "execution_count": 10,
   "id": "a571f78e",
   "metadata": {},
   "outputs": [
    {
     "data": {
      "text/plain": [
       "720"
      ]
     },
     "execution_count": 10,
     "metadata": {},
     "output_type": "execute_result"
    }
   ],
   "source": [
    "facto(6)"
   ]
  },
  {
   "cell_type": "code",
   "execution_count": null,
   "id": "348f4669",
   "metadata": {},
   "outputs": [],
   "source": [
    "#8. Define a function that accepts radius and returns the area of a circle."
   ]
  },
  {
   "cell_type": "code",
   "execution_count": 33,
   "id": "9aefca88",
   "metadata": {},
   "outputs": [
    {
     "name": "stdout",
     "output_type": "stream",
     "text": [
      "enter the radius :1\n"
     ]
    },
    {
     "data": {
      "text/plain": [
       "'area of the circle is :4.714285714285714'"
      ]
     },
     "execution_count": 33,
     "metadata": {},
     "output_type": "execute_result"
    }
   ],
   "source": [
    "def area(radius):\n",
    "    area=(33/7)*radius**2\n",
    "    return \"area of the circle is :{}\".format(area)\n",
    "radius=int(input(\"enter the radius :\"))\n",
    "area(radius)\n"
   ]
  },
  {
   "cell_type": "code",
   "execution_count": null,
   "id": "5177c836",
   "metadata": {},
   "outputs": [],
   "source": [
    "#9. Define a function that takes a number as a parameter and check the number is prime or not."
   ]
  },
  {
   "cell_type": "code",
   "execution_count": 7,
   "id": "0df1e8e9",
   "metadata": {},
   "outputs": [
    {
     "name": "stdout",
     "output_type": "stream",
     "text": [
      "enter the number :15\n"
     ]
    },
    {
     "data": {
      "text/plain": [
       "'15 is not a prime number '"
      ]
     },
     "execution_count": 7,
     "metadata": {},
     "output_type": "execute_result"
    }
   ],
   "source": [
    "def Prime(num):\n",
    "    for i in range(1,num+1):\n",
    "        if num%i==0:\n",
    "            return \"{} is not a prime number \".format(num)\n",
    "        else:\n",
    "            return \"{} is a prime number\".format(num)\n",
    "num=int(input(\"enter the number :\"))\n",
    "Prime(num)"
   ]
  },
  {
   "cell_type": "code",
   "execution_count": null,
   "id": "89c36348",
   "metadata": {},
   "outputs": [],
   "source": [
    "#Mary wants to run a 25-mile marathon. When she attempts to sign up for the marathon, she notices the sign-up sheet doesn't\n",
    "#directly state the marathon's length. Instead, the marathon's length is listed in small, different portions. Help Mary find out how long\n",
    "#the marathon actually is. So create a function that ** Return True if the marathon is 25 miles long, otherwise, return\n",
    "#False.\n",
    "#Examples :-\n",
    "#marathon_distance([1, 2, 3, 4]) ➞ False\n",
    "#marathon_distance([1, 9, 5, 8, 2]) ➞ True\n",
    "#marathon_distance([-6, 15, 4]) ➞ True\n",
    "#Notes Items in the list will always be integers\n",
    "#Items in the list may be negative or positive, but since negative distance isn't possible, find a way to convert negative integers into\n",
    "#positive integers.Return False if the arguments are empty or not provided\n"
   ]
  },
  {
   "cell_type": "code",
   "execution_count": 17,
   "id": "7553efe9",
   "metadata": {},
   "outputs": [],
   "source": [
    "def marthon(l1):\n",
    "    num=0\n",
    "    for i in range(len(l1)):\n",
    "        num+=abs(l1[i])\n",
    "    if num==25: \n",
    "        return \"True\"\n",
    "    else:\n",
    "        return \"False\"\n",
    "             \n",
    "    "
   ]
  },
  {
   "cell_type": "code",
   "execution_count": 18,
   "id": "8a3d5fc6",
   "metadata": {},
   "outputs": [
    {
     "data": {
      "text/plain": [
       "'False'"
      ]
     },
     "execution_count": 18,
     "metadata": {},
     "output_type": "execute_result"
    }
   ],
   "source": [
    "marthon([1,2,3,4,5,6,7,8])"
   ]
  },
  {
   "cell_type": "code",
   "execution_count": 22,
   "id": "6fdc3c99",
   "metadata": {},
   "outputs": [
    {
     "data": {
      "text/plain": [
       "'True'"
      ]
     },
     "execution_count": 22,
     "metadata": {},
     "output_type": "execute_result"
    }
   ],
   "source": [
    "marthon([5,2,3,4,5,6])"
   ]
  },
  {
   "cell_type": "code",
   "execution_count": null,
   "id": "7b01f1ab",
   "metadata": {},
   "outputs": [],
   "source": [
    "#11. Create a function that takes a number and returns True if the number is automorphic, False if it isn't. ** number n is automorphic if n^2 ends in n.\n",
    "#Example:\n",
    "#n=5, n^2=25 so 5 is an automorphic"
   ]
  },
  {
   "cell_type": "code",
   "execution_count": 23,
   "id": "b6309833",
   "metadata": {},
   "outputs": [],
   "source": [
    "def automorphic(n):\n",
    "    n1=n**2\n",
    "    n1=str(n1)\n",
    "    if n1[-1]==str(n):\n",
    "        print(\"it is automorphic\")\n",
    "    else:\n",
    "        print(\"it is not automorphic\")"
   ]
  },
  {
   "cell_type": "code",
   "execution_count": 24,
   "id": "b942ce3b",
   "metadata": {},
   "outputs": [
    {
     "name": "stdout",
     "output_type": "stream",
     "text": [
      "it is automorphic\n"
     ]
    }
   ],
   "source": [
    "automorphic(5)"
   ]
  },
  {
   "cell_type": "code",
   "execution_count": 25,
   "id": "4d58d78d",
   "metadata": {},
   "outputs": [
    {
     "name": "stdout",
     "output_type": "stream",
     "text": [
      "it is not automorphic\n"
     ]
    }
   ],
   "source": [
    "automorphic(4)"
   ]
  },
  {
   "cell_type": "code",
   "execution_count": null,
   "id": "344f00be",
   "metadata": {},
   "outputs": [],
   "source": [
    "#12.Create a function, that will take given a, b, c, and do the following: Add a to itself b times and Check if the result is divisible by c.\n",
    "# and return true if it is divisible by c or false\n",
    "#Example:\n",
    "# A=1\n",
    "# B=2\n",
    "# C=2\n",
    "# So output is True because 1+1=2 and 2/2=0 "
   ]
  },
  {
   "cell_type": "code",
   "execution_count": 5,
   "id": "5fda5dd1",
   "metadata": {},
   "outputs": [],
   "source": [
    "def check(a,b,c):\n",
    "    x=[]\n",
    "    for i in range(b):\n",
    "        x.append(a)\n",
    "    if sum(x)%c==0:\n",
    "        return True\n",
    "    else:\n",
    "        return False"
   ]
  },
  {
   "cell_type": "code",
   "execution_count": 6,
   "id": "26e687a3",
   "metadata": {},
   "outputs": [
    {
     "data": {
      "text/plain": [
       "True"
      ]
     },
     "execution_count": 6,
     "metadata": {},
     "output_type": "execute_result"
    }
   ],
   "source": [
    "check(1,2,2)"
   ]
  },
  {
   "cell_type": "code",
   "execution_count": 7,
   "id": "71fd0a97",
   "metadata": {},
   "outputs": [
    {
     "data": {
      "text/plain": [
       "False"
      ]
     },
     "execution_count": 7,
     "metadata": {},
     "output_type": "execute_result"
    }
   ],
   "source": [
    "check(1,2,3)"
   ]
  },
  {
   "cell_type": "code",
   "execution_count": 24,
   "id": "53c6cd0c",
   "metadata": {},
   "outputs": [],
   "source": [
    "#13) Create a function that changes specific words into emoticons.\n",
    "#Given a sentence as a string, replace the words smile, grin, sad and mad with their corresponding emoticons.word emoticon\n",
    "#smile :D\n",
    "#grin :)\n",
    "#sad :(\n",
    "#mad :P\n",
    "#Examples:\n",
    "#functionname(\"Make me smile\") ➞ \"Make me :D\"\n",
    "#functionname (\"Make me grin\") ➞ \"Make me :)\"\n",
    "#functionname (\"Make me sad\") ➞ \"Make me :(\""
   ]
  },
  {
   "cell_type": "code",
   "execution_count": 36,
   "id": "c9f9807b",
   "metadata": {},
   "outputs": [],
   "source": [
    "def function(str):\n",
    "    for i in (str):\n",
    "        str=str.replace(\"smile\",\":D\")\n",
    "        str=str.replace(\"grin\",\":)\")\n",
    "        str=str.replace(\"sad\",\":(\")\n",
    "        str=str.replace(\"mad\",\":P\")\n",
    "    print(str)"
   ]
  },
  {
   "cell_type": "code",
   "execution_count": 39,
   "id": "96896d93",
   "metadata": {},
   "outputs": [
    {
     "name": "stdout",
     "output_type": "stream",
     "text": [
      " Make me :D  Make me :)  make me :(  make me :P\n"
     ]
    }
   ],
   "source": [
    "function(\" Make me smile  Make me grin  make me sad  make me mad\")"
   ]
  },
  {
   "cell_type": "code",
   "execution_count": null,
   "id": "7b959127",
   "metadata": {},
   "outputs": [],
   "source": [
    "#14) Write a Python program to square and cube every number in a given list of integers using Lambda"
   ]
  },
  {
   "cell_type": "code",
   "execution_count": 2,
   "id": "c4ebc974",
   "metadata": {},
   "outputs": [
    {
     "name": "stdout",
     "output_type": "stream",
     "text": [
      "the square root of :[1, 4, 9, 16, 25, 36]\n",
      "the cube root of :[1, 8, 27, 64, 125, 216]\n"
     ]
    }
   ],
   "source": [
    "li=[1,2,3,4,5,6]\n",
    "x=(map(lambda x:x**2,li))\n",
    "y=(map(lambda x:x**3,li))\n",
    "print(\"the square root of :{}\".format(list(x)))\n",
    "print(\"the cube root of :{}\".format(list(y)))"
   ]
  },
  {
   "cell_type": "code",
   "execution_count": null,
   "id": "e9d717f4",
   "metadata": {},
   "outputs": [],
   "source": [
    "#15)Write a Python program to check whether a given string is number or not using Lambda"
   ]
  },
  {
   "cell_type": "code",
   "execution_count": 3,
   "id": "fe9f8898",
   "metadata": {},
   "outputs": [
    {
     "data": {
      "text/plain": [
       "True"
      ]
     },
     "execution_count": 3,
     "metadata": {},
     "output_type": "execute_result"
    }
   ],
   "source": [
    "x=lambda s:s.isdigit()\n",
    "x(\"123456\")\n"
   ]
  },
  {
   "cell_type": "code",
   "execution_count": 4,
   "id": "3c3f8782",
   "metadata": {},
   "outputs": [
    {
     "data": {
      "text/plain": [
       "True"
      ]
     },
     "execution_count": 4,
     "metadata": {},
     "output_type": "execute_result"
    }
   ],
   "source": [
    "x=lambda a:a.isalpha()\n",
    "x(\"abcdefg\")"
   ]
  },
  {
   "cell_type": "code",
   "execution_count": null,
   "id": "4a3b82f3",
   "metadata": {},
   "outputs": [],
   "source": []
  }
 ],
 "metadata": {
  "kernelspec": {
   "display_name": "Python 3 (ipykernel)",
   "language": "python",
   "name": "python3"
  },
  "language_info": {
   "codemirror_mode": {
    "name": "ipython",
    "version": 3
   },
   "file_extension": ".py",
   "mimetype": "text/x-python",
   "name": "python",
   "nbconvert_exporter": "python",
   "pygments_lexer": "ipython3",
   "version": "3.9.13"
  }
 },
 "nbformat": 4,
 "nbformat_minor": 5
}
