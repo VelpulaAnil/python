{
 "cells": [
  {
   "cell_type": "code",
   "execution_count": null,
   "id": "85b5c5c0",
   "metadata": {},
   "outputs": [],
   "source": [
    "#1# write a python program to convert a string to lower case \n"
   ]
  },
  {
   "cell_type": "code",
   "execution_count": 1,
   "id": "43fc0bb8",
   "metadata": {},
   "outputs": [
    {
     "name": "stdout",
     "output_type": "stream",
     "text": [
      "enter name:PYTHON\n"
     ]
    },
    {
     "data": {
      "text/plain": [
       "'python'"
      ]
     },
     "execution_count": 1,
     "metadata": {},
     "output_type": "execute_result"
    }
   ],
   "source": [
    "x=input(\"enter name:\")\n",
    "x.lower()\n"
   ]
  },
  {
   "cell_type": "code",
   "execution_count": null,
   "id": "09eeffe2",
   "metadata": {},
   "outputs": [],
   "source": [
    "#2# write a python program to convert only odd indexed to lower case \n",
    "#out put :-PyThOn\n"
   ]
  },
  {
   "cell_type": "code",
   "execution_count": 49,
   "id": "77d0a92c",
   "metadata": {},
   "outputs": [
    {
     "name": "stdout",
     "output_type": "stream",
     "text": [
      "enter the name:PYTHON\n",
      " PyThOn\n"
     ]
    }
   ],
   "source": [
    "x=input(\"enter the name:\")\n",
    "var=\" \"\n",
    "for y in range(6):\n",
    "    if y%2==0:\n",
    "        var=var+x[y].upper()\n",
    "    else:\n",
    "        var=var+x[y].lower()\n",
    "print(var)"
   ]
  },
  {
   "cell_type": "code",
   "execution_count": 20,
   "id": "4d162b44",
   "metadata": {},
   "outputs": [],
   "source": [
    "#3#write a python program to convert only even indexed character to lower case \n",
    "#out put :-pYtHoN"
   ]
  },
  {
   "cell_type": "code",
   "execution_count": 69,
   "id": "cdbaa932",
   "metadata": {},
   "outputs": [
    {
     "name": "stdout",
     "output_type": "stream",
     "text": [
      "enter name:python\n",
      " pYtHoN\n"
     ]
    }
   ],
   "source": [
    "x=input(\"enter name:\")\n",
    "sum=\" \"\n",
    "for y in range(6):\n",
    "    if y%2==0:\n",
    "        sum=sum+x[y].lower()\n",
    "    else:\n",
    "        sum=sum+x[y].upper()\n",
    "print(sum)"
   ]
  },
  {
   "cell_type": "code",
   "execution_count": null,
   "id": "2b2ca2b6",
   "metadata": {},
   "outputs": [],
   "source": [
    "#4#Write a python program to convert only odd\n",
    "#indexed characters to upper case\n",
    "#Ex:- python\n",
    "#Output: - pYtHoN"
   ]
  },
  {
   "cell_type": "code",
   "execution_count": 78,
   "id": "aad2fc03",
   "metadata": {},
   "outputs": [
    {
     "name": "stdout",
     "output_type": "stream",
     "text": [
      "enter name:python\n",
      " PyThOn\n"
     ]
    }
   ],
   "source": [
    "x=input(\"enter name:\")\n",
    "a=\" \"\n",
    "for b in range(6):\n",
    "    if b%2==0:\n",
    "        a=a+x[b].upper()\n",
    "    else:\n",
    "        a=a+x[b].lower()\n",
    "print(a)\n"
   ]
  },
  {
   "cell_type": "code",
   "execution_count": null,
   "id": "68a404db",
   "metadata": {},
   "outputs": [],
   "source": [
    "#5#Write a python program to convert only even\n",
    "#indexed characters to upper case\n",
    "#Ex:- python\n",
    "#Output: - PyThOn"
   ]
  },
  {
   "cell_type": "code",
   "execution_count": 80,
   "id": "63f83e33",
   "metadata": {},
   "outputs": [
    {
     "name": "stdout",
     "output_type": "stream",
     "text": [
      "enter name:python\n",
      "pYtHoN\n"
     ]
    }
   ],
   "source": [
    "x=input(\"enter name:\")\n",
    "c=\"\"\n",
    "for d in range(6):\n",
    "    if d%2==0:\n",
    "        c=c+x[d].lower()\n",
    "    else:\n",
    "        c=c+x[d].upper()\n",
    "print(c)"
   ]
  },
  {
   "cell_type": "code",
   "execution_count": null,
   "id": "d26479da",
   "metadata": {},
   "outputs": [],
   "source": [
    "#6#Write a python program where you have different variable which contains your name,sex,age, phone no ,fathers name and mothers\n",
    "#name.And by using this variable create a variable named bio-data where you will use all this variables\n",
    "#Ex:-print(bio-data)\n",
    "#Output:- My name is …., My age is ….,My\n",
    "#phone-no is ….,my fathers name is …,and my\n",
    "#mothers name is……"
   ]
  },
  {
   "cell_type": "code",
   "execution_count": 1,
   "id": "874a7de0",
   "metadata": {},
   "outputs": [
    {
     "name": "stdout",
     "output_type": "stream",
     "text": [
      "my name is: anil\n",
      "my age is: 25\n",
      "my father name is: kumar\n",
      "my mother name is: uma\n",
      "my ph no is: 9676341905\n"
     ]
    },
    {
     "data": {
      "text/plain": [
       "'my name is:anil,my age is:25,my father name is:kumar,my mother name is:uma,my ph no is:9676341905'"
      ]
     },
     "execution_count": 1,
     "metadata": {},
     "output_type": "execute_result"
    }
   ],
   "source": [
    "name=input(\"my name is: \")\n",
    "age=input(\"my age is: \")\n",
    "fathername=input(\"my father name is: \")\n",
    "mothername=input(\"my mother name is: \")\n",
    "phno=int(input(\"my ph no is: \"))\n",
    "bio_data=\"my name is:{0},my age is:{1},my father name is:{2},my mother name is:{3},my ph no is:{4}\"\n",
    "bio_data.format(name,age,fathername,mothername,phno)"
   ]
  },
  {
   "cell_type": "code",
   "execution_count": null,
   "id": "6d5f5c62",
   "metadata": {},
   "outputs": [],
   "source": [
    "##7.Write a python program to count how many\n",
    "#times “@” occurred "
   ]
  },
  {
   "cell_type": "code",
   "execution_count": 82,
   "id": "738ac51d",
   "metadata": {},
   "outputs": [],
   "source": [
    "str=(\"anil@anil@anil@\")"
   ]
  },
  {
   "cell_type": "code",
   "execution_count": 83,
   "id": "38995826",
   "metadata": {},
   "outputs": [
    {
     "data": {
      "text/plain": [
       "str"
      ]
     },
     "execution_count": 83,
     "metadata": {},
     "output_type": "execute_result"
    }
   ],
   "source": [
    "type(str)"
   ]
  },
  {
   "cell_type": "code",
   "execution_count": 84,
   "id": "35cc1cdd",
   "metadata": {},
   "outputs": [
    {
     "data": {
      "text/plain": [
       "True"
      ]
     },
     "execution_count": 84,
     "metadata": {},
     "output_type": "execute_result"
    }
   ],
   "source": [
    "str.endswith(\"@\")"
   ]
  },
  {
   "cell_type": "code",
   "execution_count": 85,
   "id": "a339ba51",
   "metadata": {},
   "outputs": [
    {
     "data": {
      "text/plain": [
       "3"
      ]
     },
     "execution_count": 85,
     "metadata": {},
     "output_type": "execute_result"
    }
   ],
   "source": [
    "str.count(\"@\")"
   ]
  },
  {
   "cell_type": "code",
   "execution_count": null,
   "id": "881c31c5",
   "metadata": {},
   "outputs": [],
   "source": [
    "##8.Write a python program to get only names from\n",
    "#the string\n",
    "#“name1.@gmail.com,name2.@gmail.com,name\n",
    "#3.@gmail.com”\n",
    "#Output-name1,name2,name3"
   ]
  },
  {
   "cell_type": "code",
   "execution_count": 87,
   "id": "bc201d69",
   "metadata": {},
   "outputs": [],
   "source": [
    "x=(\"name1.@gmail.com,name2.@gmail.com,name3.@gmail.com\")"
   ]
  },
  {
   "cell_type": "code",
   "execution_count": 88,
   "id": "3a4d20af",
   "metadata": {},
   "outputs": [
    {
     "data": {
      "text/plain": [
       "str"
      ]
     },
     "execution_count": 88,
     "metadata": {},
     "output_type": "execute_result"
    }
   ],
   "source": [
    "type(x)"
   ]
  },
  {
   "cell_type": "code",
   "execution_count": 94,
   "id": "0010392e",
   "metadata": {},
   "outputs": [],
   "source": [
    "x=(\"name1.@gmail.com,name2.@gmail.com,name3.@gmail.com\")"
   ]
  },
  {
   "cell_type": "code",
   "execution_count": 95,
   "id": "8241241c",
   "metadata": {},
   "outputs": [
    {
     "data": {
      "text/plain": [
       "'name1,name2,name3'"
      ]
     },
     "execution_count": 95,
     "metadata": {},
     "output_type": "execute_result"
    }
   ],
   "source": [
    "x.replace(\".@gmail.com\",\"\")"
   ]
  },
  {
   "cell_type": "code",
   "execution_count": 96,
   "id": "ceaeccb9",
   "metadata": {},
   "outputs": [],
   "source": [
    "y=x=(\"name1.@gmail.com,name2.@gmail.com,name3.@gmail.com\")\n"
   ]
  },
  {
   "cell_type": "code",
   "execution_count": 110,
   "id": "858d877e",
   "metadata": {},
   "outputs": [],
   "source": [
    "y=x.split(\".@gmail.com\")"
   ]
  },
  {
   "cell_type": "code",
   "execution_count": 111,
   "id": "bf68a328",
   "metadata": {},
   "outputs": [],
   "source": [
    "A=\"\".join(y)"
   ]
  },
  {
   "cell_type": "code",
   "execution_count": 112,
   "id": "f2096dd6",
   "metadata": {},
   "outputs": [
    {
     "data": {
      "text/plain": [
       "'name1,name2,name3'"
      ]
     },
     "execution_count": 112,
     "metadata": {},
     "output_type": "execute_result"
    }
   ],
   "source": [
    "A"
   ]
  },
  {
   "cell_type": "code",
   "execution_count": null,
   "id": "573e9057",
   "metadata": {},
   "outputs": [],
   "source": [
    "##9.Given a string of odd length greater that 9,return a new string made of the middle three characters of a given String\n",
    "#Ex:- “mynameissan\n",
    "#Output:- “mei”"
   ]
  },
  {
   "cell_type": "code",
   "execution_count": 119,
   "id": "83594388",
   "metadata": {},
   "outputs": [],
   "source": [
    "x=\"mynameisan\""
   ]
  },
  {
   "cell_type": "code",
   "execution_count": 120,
   "id": "4de38a7f",
   "metadata": {},
   "outputs": [
    {
     "data": {
      "text/plain": [
       "str"
      ]
     },
     "execution_count": 120,
     "metadata": {},
     "output_type": "execute_result"
    }
   ],
   "source": [
    "type(x)"
   ]
  },
  {
   "cell_type": "code",
   "execution_count": 125,
   "id": "3715b546",
   "metadata": {},
   "outputs": [
    {
     "data": {
      "text/plain": [
       "0"
      ]
     },
     "execution_count": 125,
     "metadata": {},
     "output_type": "execute_result"
    }
   ],
   "source": [
    "x.index(\"m\")"
   ]
  },
  {
   "cell_type": "code",
   "execution_count": 126,
   "id": "9c7da514",
   "metadata": {},
   "outputs": [
    {
     "data": {
      "text/plain": [
       "5"
      ]
     },
     "execution_count": 126,
     "metadata": {},
     "output_type": "execute_result"
    }
   ],
   "source": [
    "x.index(\"e\")"
   ]
  },
  {
   "cell_type": "code",
   "execution_count": 127,
   "id": "0f99087b",
   "metadata": {},
   "outputs": [
    {
     "data": {
      "text/plain": [
       "6"
      ]
     },
     "execution_count": 127,
     "metadata": {},
     "output_type": "execute_result"
    }
   ],
   "source": [
    "x.index(\"i\")"
   ]
  },
  {
   "cell_type": "code",
   "execution_count": 129,
   "id": "508cea51",
   "metadata": {},
   "outputs": [
    {
     "data": {
      "text/plain": [
       "'mei'"
      ]
     },
     "execution_count": 129,
     "metadata": {},
     "output_type": "execute_result"
    }
   ],
   "source": [
    "x[0]+x[5]+x[6]"
   ]
  },
  {
   "cell_type": "code",
   "execution_count": null,
   "id": "6eb42d68",
   "metadata": {},
   "outputs": [],
   "source": [
    "##10. Write a python program to insert a 2 stringin the middle of 1 string\n",
    "#Ex:-Str1=”myn”\n",
    " #Str2=”sa”\n",
    "#Output:-“msayn”\n"
   ]
  },
  {
   "cell_type": "code",
   "execution_count": 1,
   "id": "c6f26793",
   "metadata": {},
   "outputs": [
    {
     "name": "stdout",
     "output_type": "stream",
     "text": [
      "first name:myn\n",
      "second name:sa\n"
     ]
    }
   ],
   "source": [
    "x=input(\"first name:\")\n",
    "y=input(\"second name:\")"
   ]
  },
  {
   "cell_type": "code",
   "execution_count": 2,
   "id": "116d123e",
   "metadata": {},
   "outputs": [
    {
     "data": {
      "text/plain": [
       "'myn'"
      ]
     },
     "execution_count": 2,
     "metadata": {},
     "output_type": "execute_result"
    }
   ],
   "source": [
    "x"
   ]
  },
  {
   "cell_type": "code",
   "execution_count": 3,
   "id": "6c060cbb",
   "metadata": {},
   "outputs": [
    {
     "data": {
      "text/plain": [
       "'sa'"
      ]
     },
     "execution_count": 3,
     "metadata": {},
     "output_type": "execute_result"
    }
   ],
   "source": [
    "y"
   ]
  },
  {
   "cell_type": "code",
   "execution_count": 4,
   "id": "2b8c694e",
   "metadata": {},
   "outputs": [
    {
     "data": {
      "text/plain": [
       "3"
      ]
     },
     "execution_count": 4,
     "metadata": {},
     "output_type": "execute_result"
    }
   ],
   "source": [
    "len(x)"
   ]
  },
  {
   "cell_type": "code",
   "execution_count": 5,
   "id": "9e463e21",
   "metadata": {},
   "outputs": [
    {
     "data": {
      "text/plain": [
       "2"
      ]
     },
     "execution_count": 5,
     "metadata": {},
     "output_type": "execute_result"
    }
   ],
   "source": [
    "len(y)"
   ]
  },
  {
   "cell_type": "code",
   "execution_count": 8,
   "id": "473c7088",
   "metadata": {},
   "outputs": [
    {
     "data": {
      "text/plain": [
       "'m'"
      ]
     },
     "execution_count": 8,
     "metadata": {},
     "output_type": "execute_result"
    }
   ],
   "source": [
    "x[0:1]"
   ]
  },
  {
   "cell_type": "code",
   "execution_count": 9,
   "id": "3efa1a5a",
   "metadata": {},
   "outputs": [
    {
     "data": {
      "text/plain": [
       "'yn'"
      ]
     },
     "execution_count": 9,
     "metadata": {},
     "output_type": "execute_result"
    }
   ],
   "source": [
    "x[1:3]"
   ]
  },
  {
   "cell_type": "code",
   "execution_count": 10,
   "id": "4523f280",
   "metadata": {},
   "outputs": [
    {
     "data": {
      "text/plain": [
       "'sa'"
      ]
     },
     "execution_count": 10,
     "metadata": {},
     "output_type": "execute_result"
    }
   ],
   "source": [
    "y[0:2]"
   ]
  },
  {
   "cell_type": "code",
   "execution_count": 11,
   "id": "0425cb51",
   "metadata": {},
   "outputs": [],
   "source": [
    "z=x[0:1]+y[0:2]+x[1:3]"
   ]
  },
  {
   "cell_type": "code",
   "execution_count": 12,
   "id": "df3b1b7f",
   "metadata": {},
   "outputs": [
    {
     "data": {
      "text/plain": [
       "'msayn'"
      ]
     },
     "execution_count": 12,
     "metadata": {},
     "output_type": "execute_result"
    }
   ],
   "source": [
    "z"
   ]
  },
  {
   "cell_type": "code",
   "execution_count": 13,
   "id": "4539115a",
   "metadata": {},
   "outputs": [],
   "source": [
    "##11. Write a program to remove vowels from the entire alphabets\n",
    "#Ex:- “abcdefghijklmnopqrstuvwxyz”\n",
    "#Output:- “bcdfghjklmnpqrstvwxyz”"
   ]
  },
  {
   "cell_type": "code",
   "execution_count": 2,
   "id": "3078288f",
   "metadata": {},
   "outputs": [],
   "source": [
    "x=(\"abcdefghijklmnopqrstuvwxyz\")"
   ]
  },
  {
   "cell_type": "code",
   "execution_count": 3,
   "id": "fee654f0",
   "metadata": {},
   "outputs": [
    {
     "data": {
      "text/plain": [
       "'abcdefghijklmnopqrstuvwxyz'"
      ]
     },
     "execution_count": 3,
     "metadata": {},
     "output_type": "execute_result"
    }
   ],
   "source": [
    "x"
   ]
  },
  {
   "cell_type": "code",
   "execution_count": 5,
   "id": "6d458fdf",
   "metadata": {},
   "outputs": [
    {
     "data": {
      "text/plain": [
       "'bcdfghjklmnpqrstvwxyz'"
      ]
     },
     "execution_count": 5,
     "metadata": {},
     "output_type": "execute_result"
    }
   ],
   "source": [
    "x.replace(\"a\",\"\").replace(\"e\",\"\").replace(\"i\",\"\").replace(\"o\",\"\").replace(\"u\",\"\")"
   ]
  },
  {
   "cell_type": "code",
   "execution_count": null,
   "id": "c337eac8",
   "metadata": {},
   "outputs": [],
   "source": []
  }
 ],
 "metadata": {
  "kernelspec": {
   "display_name": "Python 3 (ipykernel)",
   "language": "python",
   "name": "python3"
  },
  "language_info": {
   "codemirror_mode": {
    "name": "ipython",
    "version": 3
   },
   "file_extension": ".py",
   "mimetype": "text/x-python",
   "name": "python",
   "nbconvert_exporter": "python",
   "pygments_lexer": "ipython3",
   "version": "3.9.13"
  }
 },
 "nbformat": 4,
 "nbformat_minor": 5
}
