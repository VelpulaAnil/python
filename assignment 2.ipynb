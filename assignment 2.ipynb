{
 "cells": [
  {
   "cell_type": "code",
   "execution_count": null,
   "id": "06036d3c",
   "metadata": {},
   "outputs": [],
   "source": [
    "                            #Python Assignment -2#\n",
    "\n",
    "#1) Write a program to accept two numbers from the user\n",
    "#and calculate multiplication, division"
   ]
  },
  {
   "cell_type": "code",
   "execution_count": 6,
   "id": "a2c267c1",
   "metadata": {},
   "outputs": [
    {
     "name": "stdout",
     "output_type": "stream",
     "text": [
      "enter first no10\n",
      "enter symbol/\n",
      "enter second no5\n",
      "10/5=2.0\n"
     ]
    }
   ],
   "source": [
    "a=int(input(\"enter first no\"))\n",
    "var=input(\"enter symbol\")\n",
    "c=int(input(\"enter second no\"))\n",
    "if var==\"/\":\n",
    "    print(\"{}/{}={}\".format(a,c,a/c))\n",
    "elif var==\"*\":\n",
    "    print(\"{}*{}={}\".format(a,c,a*c))\n",
    "else:\n",
    "    print(\"enter wrong no\")\n",
    "\n"
   ]
  },
  {
   "cell_type": "code",
   "execution_count": null,
   "id": "4e3e6a4c",
   "metadata": {},
   "outputs": [],
   "source": [
    "#2) Write a python program to print the characters from a\n",
    "#string that are present at an even index"
   ]
  },
  {
   "cell_type": "code",
   "execution_count": 5,
   "id": "2f2f80b1",
   "metadata": {},
   "outputs": [
    {
     "name": "stdout",
     "output_type": "stream",
     "text": [
      "enter values innomatics\n",
      "i\n",
      "n\n",
      "m\n",
      "t\n",
      "c\n"
     ]
    }
   ],
   "source": [
    "x=input(\"enter values \")\n",
    "for y in range(len(x)):\n",
    "    if y%2==0:\n",
    "        print(x[y])"
   ]
  },
  {
   "cell_type": "code",
   "execution_count": null,
   "id": "57ad45a4",
   "metadata": {},
   "outputs": [],
   "source": [
    "#3) Write a python program to print the characters from a\n",
    "#string that are present at an odd index\n"
   ]
  },
  {
   "cell_type": "code",
   "execution_count": 7,
   "id": "f0e0c6ed",
   "metadata": {},
   "outputs": [
    {
     "name": "stdout",
     "output_type": "stream",
     "text": [
      "enter valuesinnomatics\n",
      "n\n",
      "o\n",
      "a\n",
      "i\n",
      "s\n"
     ]
    }
   ],
   "source": [
    "y=input(\"enter values\")\n",
    "for z in range(len(y)):\n",
    "    if z%2!=0:\n",
    "        print(y[z])"
   ]
  },
  {
   "cell_type": "code",
   "execution_count": null,
   "id": "0cc6aac3",
   "metadata": {},
   "outputs": [],
   "source": [
    "#4)#Write a python program which will print the sum of the two numbers if the two numbers are even or it will\n",
    "#print the difference of two numbers"
   ]
  },
  {
   "cell_type": "code",
   "execution_count": 1,
   "id": "0b0a1c99",
   "metadata": {},
   "outputs": [
    {
     "name": "stdout",
     "output_type": "stream",
     "text": [
      "enter first no 10\n",
      "enter second no 2\n",
      "not even no 10-2=8\n"
     ]
    }
   ],
   "source": [
    "\n",
    "a=int(input(\"enter first no \"))\n",
    "b=int(input(\"enter second no \"))\n",
    "if a%2==0 and b%2!=0:\n",
    "    print(\"even no {}+{}={}\".format(a,b,a+b))\n",
    "else:\n",
    "    print(\"not even no {}-{}={}\".format(a,b,a-b))\n",
    "    "
   ]
  },
  {
   "cell_type": "code",
   "execution_count": null,
   "id": "34ec5100",
   "metadata": {},
   "outputs": [],
   "source": [
    "#5) Write a python program to convert all even indexed\n",
    "# alphabets to upper and odd indexed char\n"
   ]
  },
  {
   "cell_type": "code",
   "execution_count": 9,
   "id": "b04e49d2",
   "metadata": {},
   "outputs": [
    {
     "name": "stdout",
     "output_type": "stream",
     "text": [
      "enter name InnOmAtics\n",
      "InNoMaTiCs\n"
     ]
    }
   ],
   "source": [
    "var=input(\"enter name \")\n",
    "name=\"\"\n",
    "for y in range(len(var)):\n",
    "    if y%2==0:\n",
    "        name+=var[y].upper()\n",
    "    else:\n",
    "        name+=var[y].lower()\n",
    "print(name)\n",
    "    "
   ]
  },
  {
   "cell_type": "code",
   "execution_count": null,
   "id": "858a19d1",
   "metadata": {},
   "outputs": [],
   "source": [
    "#6) Write a python program which will print True if the input\n",
    "#number is divisible by 5 or else False"
   ]
  },
  {
   "cell_type": "code",
   "execution_count": 16,
   "id": "0e8d70a7",
   "metadata": {},
   "outputs": [
    {
     "name": "stdout",
     "output_type": "stream",
     "text": [
      "enter no 6\n",
      "False\n"
     ]
    }
   ],
   "source": [
    "x=int(input(\"enter no \"))\n",
    "if x%5==0:\n",
    "    print(\"True\")\n",
    "else:\n",
    "    print(\"False\")\n",
    "    \n"
   ]
  },
  {
   "cell_type": "code",
   "execution_count": null,
   "id": "82b9b313",
   "metadata": {},
   "outputs": [],
   "source": [
    "#7) Given two integer numbers return their product only if the\n",
    "#product is greater than 1000, else return their sum\n"
   ]
  },
  {
   "cell_type": "code",
   "execution_count": 20,
   "id": "eefb1378",
   "metadata": {},
   "outputs": [
    {
     "name": "stdout",
     "output_type": "stream",
     "text": [
      "enter first no 50\n",
      "enter second no 20\n",
      "product is less than 1000 50+20=70\n"
     ]
    }
   ],
   "source": [
    "a=int(input(\"enter first no \"))\n",
    "m=int(input(\"enter second no \"))\n",
    "if a*m>1000:\n",
    "    print(\"product is greater than 1000 {}*{}={}\".format(a,m,a*m))\n",
    "else:\n",
    "    print(\"product is less than 1000 {}+{}={}\".format(a,m,a+m))\n",
    "\n",
    "    "
   ]
  },
  {
   "cell_type": "code",
   "execution_count": null,
   "id": "d59522ed",
   "metadata": {},
   "outputs": [],
   "source": [
    "#8) Given two strings x, y writes a program to return a newstring made of x and y’s first, middle, and last characters\n",
    "#Example:\n",
    "# Input\n",
    "# X=” pytho”\n",
    "# Y=” javas”\n",
    "# Output\n",
    "# ” pjtvos”\n"
   ]
  },
  {
   "cell_type": "code",
   "execution_count": 1,
   "id": "41fdf40d",
   "metadata": {},
   "outputs": [
    {
     "name": "stdout",
     "output_type": "stream",
     "text": [
      "enter first name pytho\n",
      "enter second name javas\n"
     ]
    }
   ],
   "source": [
    "x=input(\"enter first name \")\n",
    "y=input(\"enter second name \")"
   ]
  },
  {
   "cell_type": "code",
   "execution_count": 2,
   "id": "b4b39e02",
   "metadata": {},
   "outputs": [
    {
     "data": {
      "text/plain": [
       "'pytho'"
      ]
     },
     "execution_count": 2,
     "metadata": {},
     "output_type": "execute_result"
    }
   ],
   "source": [
    "x"
   ]
  },
  {
   "cell_type": "code",
   "execution_count": 4,
   "id": "7b0f64cc",
   "metadata": {},
   "outputs": [
    {
     "data": {
      "text/plain": [
       "'javas'"
      ]
     },
     "execution_count": 4,
     "metadata": {},
     "output_type": "execute_result"
    }
   ],
   "source": [
    "y"
   ]
  },
  {
   "cell_type": "code",
   "execution_count": 7,
   "id": "4d2e62e3",
   "metadata": {},
   "outputs": [],
   "source": [
    "z=x[0]+y[0]+x[2]+y[2]+x[4]+y[4]"
   ]
  },
  {
   "cell_type": "code",
   "execution_count": 8,
   "id": "6eaae8e0",
   "metadata": {},
   "outputs": [
    {
     "data": {
      "text/plain": [
       "'pjtvos'"
      ]
     },
     "execution_count": 8,
     "metadata": {},
     "output_type": "execute_result"
    }
   ],
   "source": [
    "z"
   ]
  },
  {
   "cell_type": "code",
   "execution_count": null,
   "id": "65eee679",
   "metadata": {},
   "outputs": [],
   "source": [
    "#9) Write a python program to take three names as input from a user in the single input () function call\n",
    "#Example:\n",
    "I#nput:\n",
    "#Enter three names: - “person1 person2 person3”\n",
    "#Output:\n",
    "#Name1: - “person1”\n",
    "#Name2: - “person2”\n",
    "#Name3: - “person3”"
   ]
  },
  {
   "cell_type": "code",
   "execution_count": 12,
   "id": "90b766c4",
   "metadata": {},
   "outputs": [],
   "source": [
    "def name(person1,person2,person3):\n",
    "    print(\"name1:-{}\".format(person1))\n",
    "    print(\"name2:-{}\".format(person2))\n",
    "    print(\"name3:-{}\".format(person3))"
   ]
  },
  {
   "cell_type": "code",
   "execution_count": 16,
   "id": "8de14ac8",
   "metadata": {},
   "outputs": [
    {
     "name": "stdout",
     "output_type": "stream",
     "text": [
      "name1:-person1\n",
      "name2:-person2\n",
      "name3:-person3\n"
     ]
    }
   ],
   "source": [
    "name(\"person1\",\"person2\",\"person3\")"
   ]
  },
  {
   "cell_type": "code",
   "execution_count": null,
   "id": "288257ae",
   "metadata": {},
   "outputs": [],
   "source": [
    "# 10) Write a Python program to get a string from a given string where all occurrences of its first char have been\n",
    "#changed to '@', except the first char itself.\n",
    "# Example:\n",
    "# Input:\n",
    "# 'malayalam’\n",
    "# Output:\n",
    "# 'malayala@'\n",
    "# Input:\n",
    "#' abcabab'\n",
    "# Output:\n",
    "# ‘abc@b@b’\n"
   ]
  },
  {
   "cell_type": "code",
   "execution_count": 22,
   "id": "642cde43",
   "metadata": {},
   "outputs": [],
   "source": [
    "x=\"malayalam\""
   ]
  },
  {
   "cell_type": "code",
   "execution_count": 23,
   "id": "ad49975e",
   "metadata": {},
   "outputs": [
    {
     "data": {
      "text/plain": [
       "'malayalam'"
      ]
     },
     "execution_count": 23,
     "metadata": {},
     "output_type": "execute_result"
    }
   ],
   "source": [
    "x"
   ]
  },
  {
   "cell_type": "code",
   "execution_count": 39,
   "id": "9c598382",
   "metadata": {},
   "outputs": [],
   "source": [
    "y=x.replace(\"am\",\"@\")"
   ]
  },
  {
   "cell_type": "code",
   "execution_count": 41,
   "id": "0b7ec63d",
   "metadata": {},
   "outputs": [
    {
     "data": {
      "text/plain": [
       "'malayal@'"
      ]
     },
     "execution_count": 41,
     "metadata": {},
     "output_type": "execute_result"
    }
   ],
   "source": [
    "y"
   ]
  },
  {
   "cell_type": "code",
   "execution_count": 8,
   "id": "996e3348",
   "metadata": {},
   "outputs": [
    {
     "name": "stdout",
     "output_type": "stream",
     "text": [
      "enter a name abcdabab\n",
      "abcd@b@b\n"
     ]
    }
   ],
   "source": [
    "x=input(\"enter a name \")\n",
    "z=x[0]\n",
    "for i in x:\n",
    "    x= x.replace(x[0],'@')\n",
    "    x= z + x[1:]\n",
    "print(x)"
   ]
  },
  {
   "cell_type": "code",
   "execution_count": null,
   "id": "16ad10bc",
   "metadata": {},
   "outputs": [],
   "source": [
    "#11) Write a Python program to add 'ing' at the end of a given string (string length should be equal to or more than 3). If\n",
    "#the given string already ends with 'ing' then add 'ly' instead. If the string length of the given string is less than 3, leave it\n",
    "#unchanged"
   ]
  },
  {
   "cell_type": "code",
   "execution_count": 10,
   "id": "7dbc6cb2",
   "metadata": {},
   "outputs": [
    {
     "name": "stdout",
     "output_type": "stream",
     "text": [
      "enter a name :game\n",
      "gameing\n"
     ]
    }
   ],
   "source": [
    "x=input(\"enter a name :\")\n",
    "l=len(x)\n",
    "if l>=4:\n",
    "    if x.endswith(\"ing\"):\n",
    "        a=x[:-3]+\"ing\"\n",
    "        print(a)\n",
    "    else:\n",
    "         b=x[0:]+\"ing\"\n",
    "         print(b)\n",
    "if l<=3:\n",
    "        print(x)\n",
    "        "
   ]
  },
  {
   "cell_type": "code",
   "execution_count": null,
   "id": "c7b5bad4",
   "metadata": {},
   "outputs": [],
   "source": [
    "#12) Write a python program that accepts two inputs num1 and num2 print True if one of them is 10 or if their sum is 10\n",
    "#otherwise print False"
   ]
  },
  {
   "cell_type": "code",
   "execution_count": 13,
   "id": "96f02100",
   "metadata": {},
   "outputs": [
    {
     "name": "stdout",
     "output_type": "stream",
     "text": [
      "a : 50\n",
      "b : 10\n",
      "True\n"
     ]
    }
   ],
   "source": [
    "a=int(input(\"a : \"))\n",
    "b=int(input(\"b : \"))\n",
    "if a==10 or b==10 or a+b==10:\n",
    "    print(True)\n",
    "else:\n",
    "    print(False)"
   ]
  },
  {
   "cell_type": "code",
   "execution_count": null,
   "id": "9558ddc1",
   "metadata": {},
   "outputs": [],
   "source": [
    "#13) Write a python program that accepts three inputs x, y and z print True if x*y>z otherwise False\n"
   ]
  },
  {
   "cell_type": "code",
   "execution_count": 6,
   "id": "c141c2db",
   "metadata": {},
   "outputs": [
    {
     "name": "stdout",
     "output_type": "stream",
     "text": [
      "enter first no 1\n",
      "enter second no 1\n",
      "enter third no 2\n",
      "False\n"
     ]
    }
   ],
   "source": [
    "a=int(input(\"enter first no \"))\n",
    "b=int(input(\"enter second no \"))\n",
    "c=int(input(\"enter third no \"))\n",
    "if a*b>c:\n",
    "    print(\"True\")\n",
    "else:\n",
    "    print(\"False\")\n"
   ]
  },
  {
   "cell_type": "code",
   "execution_count": null,
   "id": "6625ac31",
   "metadata": {},
   "outputs": [],
   "source": [
    "#14) Write a python program that accepts two strings inputs return True depending on whether the total number of\n",
    "#characters in the first string is equal to the total number of characters in the second string"
   ]
  },
  {
   "cell_type": "code",
   "execution_count": 16,
   "id": "59db6d12",
   "metadata": {},
   "outputs": [
    {
     "name": "stdout",
     "output_type": "stream",
     "text": [
      "100\n",
      "50\n",
      "False\n"
     ]
    }
   ],
   "source": [
    "num1=input()\n",
    "num2=input()\n",
    "if len(num1)==len(num2):\n",
    "    print(True)\n",
    "else:\n",
    "    print(False)"
   ]
  },
  {
   "cell_type": "code",
   "execution_count": 17,
   "id": "ddf2e0bc",
   "metadata": {},
   "outputs": [
    {
     "name": "stdout",
     "output_type": "stream",
     "text": [
      "100\n",
      "100\n",
      "True\n"
     ]
    }
   ],
   "source": [
    "num1=input()\n",
    "num2=input()\n",
    "if len(num1)==len(num2):\n",
    "    print(True)\n",
    "else:\n",
    "    print(False)"
   ]
  },
  {
   "cell_type": "code",
   "execution_count": null,
   "id": "7dec8ac6",
   "metadata": {},
   "outputs": [],
   "source": [
    "#15) Write a python program that takes a string input, we'll say that the front is the first three characters of the string. If the\n",
    "#string length is less than three characters, the front iswhatever is there. Return a new string, which is three copies\n",
    "#of the front\n"
   ]
  },
  {
   "cell_type": "code",
   "execution_count": 18,
   "id": "7f785c21",
   "metadata": {},
   "outputs": [
    {
     "name": "stdout",
     "output_type": "stream",
     "text": [
      "anil\n",
      "ani ani ani\n"
     ]
    }
   ],
   "source": [
    "str=input()\n",
    "if len(str)<3:\n",
    "    print(str)\n",
    "else:\n",
    "    var=str[0:3]\n",
    "    print(var,var,var)"
   ]
  },
  {
   "cell_type": "code",
   "execution_count": null,
   "id": "63b76b23",
   "metadata": {},
   "outputs": [],
   "source": [
    "#16) Write a python program that takes in a word anddetermines whether or not it is plural. A plural word is one\n",
    "#that ends in \"s\".\n"
   ]
  },
  {
   "cell_type": "code",
   "execution_count": 27,
   "id": "fc7e5de5",
   "metadata": {},
   "outputs": [
    {
     "name": "stdout",
     "output_type": "stream",
     "text": [
      "enter a string car\n",
      "it is not plural word\n"
     ]
    }
   ],
   "source": [
    "\n",
    "x=input(\"enter a string \")\n",
    "if x.endswith(\"s\"):\n",
    "    print(\"it is a plural word \",x)\n",
    "else:\n",
    "    print(\"it is not plural word\")\n"
   ]
  },
  {
   "cell_type": "code",
   "execution_count": null,
   "id": "ef62f2b7",
   "metadata": {},
   "outputs": [],
   "source": [
    "#17) A bartender is writing a simple program to determine whether he should serve drinks to someone. He only serves\n",
    "#drinks to people 18 and older and when he's not on break (True means break and False means not a break time). Given\n",
    "#the person's age, and whether break time is in session, create a python program which prints whether he should serve\n",
    "#drinks or not.\n"
   ]
  },
  {
   "cell_type": "code",
   "execution_count": 30,
   "id": "0d00e372",
   "metadata": {},
   "outputs": [
    {
     "name": "stdout",
     "output_type": "stream",
     "text": [
      "enter the age 20\n",
      "enter the True(break) or False false\n",
      "he serves the drink\n"
     ]
    }
   ],
   "source": [
    "a=int(input(\"enter the age \"))\n",
    "b=input(\"enter the True(break) or False \")\n",
    "if a>=18 and b==\"false\":\n",
    "    print(\"he serves the drink\")\n",
    "elif a>=18 and b==\"true\": \n",
    "    print(\"he doesn't serves\")\n",
    "elif a<=18:\n",
    "    print(\"not serves below age 18\")"
   ]
  },
  {
   "cell_type": "code",
   "execution_count": null,
   "id": "e3916b14",
   "metadata": {},
   "outputs": [],
   "source": [
    "#18) Manoj Kumar has family and friends. Help him remindthem who is who. Given a string with a name, return the\n",
    "#relation of that person to Manoj Kumar.Person Relation\n",
    "#Shiva father\n",
    "#Letha mother\n",
    "#Tarun brother"
   ]
  },
  {
   "cell_type": "code",
   "execution_count": 31,
   "id": "9aefd113",
   "metadata": {},
   "outputs": [
    {
     "name": "stdout",
     "output_type": "stream",
     "text": [
      "enter the name to know the relation to manoj kumar:shiva or letha or tarunletha\n",
      "letha is, his mother\n"
     ]
    }
   ],
   "source": [
    "name=input(\"know to the relation to manoj kumar:shiva or letha or tarun\")\n",
    "if name==\"shiva\":\n",
    "    print(\"shiva is, his father\")\n",
    "elif name==\"letha\":\n",
    "    print(\"letha is, his mother\")\n",
    "elif name==\"tarun\":\n",
    "    print(\"tarun is, his brother\")\n",
    "\n"
   ]
  },
  {
   "cell_type": "code",
   "execution_count": null,
   "id": "e944c7ac",
   "metadata": {},
   "outputs": [],
   "source": [
    "#19) Write a python program that takes a string, breaks it upand returns it with vowels first, consonants second. For any\n",
    "#character that's not a vowel (like special characters or spaces), treat them like consonants"
   ]
  },
  {
   "cell_type": "code",
   "execution_count": 32,
   "id": "9455cf1a",
   "metadata": {},
   "outputs": [
    {
     "name": "stdout",
     "output_type": "stream",
     "text": [
      "abcdefghijklmnopqrstuvwxyz\n",
      " aeiou bcdfghjklmnpqrstvwxyz\n"
     ]
    }
   ],
   "source": [
    "str=input()\n",
    "a=\" \"\n",
    "b=\" \"\n",
    "for alpha in str:\n",
    "    if alpha in [\"a\",\"e\",\"i\",\"o\",\"u\"]:\n",
    "        a=a+alpha\n",
    "    else:\n",
    "        b=b+alpha\n",
    "print(a+b)"
   ]
  },
  {
   "cell_type": "code",
   "execution_count": null,
   "id": "0b54342a",
   "metadata": {},
   "outputs": [],
   "source": [
    "#20) Create a dynamic calculator which asks for numbers andoperator and return the answers\n",
    "#Example\n",
    "#Input:\n",
    "#Type first number: 10\n",
    "#Type any of this (+, -, *, /, %, **): *\n",
    "#Kavitha sister\n",
    "#Strange Coder\n",
    "#Assignment-2\n",
    "#Type second number: 19\n",
    "#Output:\n",
    "#Answer is 190"
   ]
  },
  {
   "cell_type": "code",
   "execution_count": 2,
   "id": "00bf9824",
   "metadata": {},
   "outputs": [
    {
     "name": "stdout",
     "output_type": "stream",
     "text": [
      "enter first no 50\n",
      "enter operation +\n",
      "enter second no 10\n",
      "60\n"
     ]
    }
   ],
   "source": [
    "\n",
    "num1=int(input(\"enter first no \"))\n",
    "x=input(\"enter operation \")\n",
    "num2=int(input(\"enter second no \"))\n",
    "if x==\"+\":\n",
    "    print(num1+num2)\n",
    "elif x==\"-\":\n",
    "    print(num1-num2)\n",
    "elif x==\"*\":\n",
    "    print(num1*num2)\n",
    "elif x==\"/\":\n",
    "    print(num1/num2)\n",
    "elif x==\"**\":\n",
    "    print(num1**num2)\n",
    "else:\n",
    "    print(\"You have enter wrong input\")"
   ]
  },
  {
   "cell_type": "code",
   "execution_count": null,
   "id": "5fa1fbfb",
   "metadata": {},
   "outputs": [],
   "source": [
    "\n"
   ]
  }
 ],
 "metadata": {
  "kernelspec": {
   "display_name": "Python 3 (ipykernel)",
   "language": "python",
   "name": "python3"
  },
  "language_info": {
   "codemirror_mode": {
    "name": "ipython",
    "version": 3
   },
   "file_extension": ".py",
   "mimetype": "text/x-python",
   "name": "python",
   "nbconvert_exporter": "python",
   "pygments_lexer": "ipython3",
   "version": "3.9.13"
  }
 },
 "nbformat": 4,
 "nbformat_minor": 5
}
