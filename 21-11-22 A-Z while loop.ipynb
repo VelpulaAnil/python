{
 "cells": [
  {
   "cell_type": "code",
   "execution_count": 2,
   "id": "ddde98cb",
   "metadata": {},
   "outputs": [
    {
     "name": "stdout",
     "output_type": "stream",
     "text": [
      "******\n",
      "*    *\n",
      "******\n",
      "*    *\n"
     ]
    }
   ],
   "source": [
    "a=1\n",
    "while a<=5:\n",
    "    if a==1:\n",
    "        print(\"******\")\n",
    "    elif a==2:\n",
    "        print(\"*    *\")\n",
    "    elif a==3:\n",
    "        print(\"******\")\n",
    "    elif a==4:\n",
    "        print(\"*    *\")\n",
    "    a=a+1"
   ]
  },
  {
   "cell_type": "code",
   "execution_count": 3,
   "id": "1250d491",
   "metadata": {},
   "outputs": [
    {
     "name": "stdout",
     "output_type": "stream",
     "text": [
      "*****\n",
      "*    *\n",
      "****\n",
      "*    *\n",
      "*****\n"
     ]
    }
   ],
   "source": [
    "b=1\n",
    "while b<=5:\n",
    "    if b==1:\n",
    "        print(\"*****\")\n",
    "    elif b==2:\n",
    "        print(\"*    *\")\n",
    "    elif b==3:\n",
    "        print(\"****\")\n",
    "    elif b==4:\n",
    "        print(\"*    *\")\n",
    "    elif b==5:\n",
    "        print(\"*****\")\n",
    "    b=b+1"
   ]
  },
  {
   "cell_type": "code",
   "execution_count": 4,
   "id": "6b2ea912",
   "metadata": {},
   "outputs": [
    {
     "name": "stdout",
     "output_type": "stream",
     "text": [
      " ****\n",
      "*\n",
      "*\n",
      "*\n",
      " ****\n"
     ]
    }
   ],
   "source": [
    "c=1\n",
    "while c<=5:\n",
    "    if c==1:\n",
    "        print(\" ****\")\n",
    "    elif c==2:\n",
    "        print(\"*\")\n",
    "    elif c==3:\n",
    "        print(\"*\")\n",
    "    elif c==4:\n",
    "        print(\"*\")\n",
    "    elif c==5:\n",
    "        print(\" ****\")\n",
    "    c=c+1"
   ]
  },
  {
   "cell_type": "code",
   "execution_count": 7,
   "id": "c7f9dfb4",
   "metadata": {},
   "outputs": [
    {
     "name": "stdout",
     "output_type": "stream",
     "text": [
      "****\n",
      "*    *\n",
      "*    *\n",
      "*    *\n",
      "****\n"
     ]
    }
   ],
   "source": [
    "d=1\n",
    "while d<=5:\n",
    "    if d==1:\n",
    "        print(\"****\")\n",
    "    elif d==2:\n",
    "        print(\"*    *\")\n",
    "    elif d==3:\n",
    "        print(\"*    *\")\n",
    "    elif d==4:\n",
    "        print(\"*    *\")\n",
    "    elif d==5:\n",
    "        print(\"****\") \n",
    "    d=d+1\n",
    "    \n",
    "    "
   ]
  },
  {
   "cell_type": "code",
   "execution_count": 23,
   "id": "5b71f42e",
   "metadata": {},
   "outputs": [
    {
     "name": "stdout",
     "output_type": "stream",
     "text": [
      "*****\n",
      "*\n",
      "*****\n",
      "*\n",
      "*****\n"
     ]
    }
   ],
   "source": [
    "e=1\n",
    "while e<=5:\n",
    "    if e==1:\n",
    "        print(\"*****\")\n",
    "    elif e==2:\n",
    "        print(\"*\")\n",
    "    elif e==3:\n",
    "        print(\"*****\")\n",
    "    elif e==4:\n",
    "        print(\"*\")\n",
    "    elif e==5:\n",
    "        print(\"*****\")\n",
    "    e=e+1\n"
   ]
  },
  {
   "cell_type": "code",
   "execution_count": 21,
   "id": "59055c03",
   "metadata": {},
   "outputs": [
    {
     "name": "stdout",
     "output_type": "stream",
     "text": [
      "*****\n",
      "*\n",
      "*****\n",
      "*\n",
      "*\n"
     ]
    }
   ],
   "source": [
    "f=1\n",
    "while f<=5:\n",
    "    if f==1:\n",
    "        print(\"*****\")\n",
    "    elif f==2:\n",
    "        print(\"*\")\n",
    "    elif f==3:\n",
    "        print(\"*****\")\n",
    "    elif f==4:\n",
    "        print(\"*\")\n",
    "    elif f==5:\n",
    "        print(\"*\")\n",
    "    f=f+1\n"
   ]
  },
  {
   "cell_type": "code",
   "execution_count": 25,
   "id": "fec5219d",
   "metadata": {},
   "outputs": [
    {
     "name": "stdout",
     "output_type": "stream",
     "text": [
      " * * *\n",
      "*\n",
      "*  * *\n",
      "*    *\n",
      " * * *\n"
     ]
    }
   ],
   "source": [
    "g=1\n",
    "while g<=5:\n",
    "    if g==1:\n",
    "        print(\" * * *\")\n",
    "    elif g==2:\n",
    "        print(\"*\")\n",
    "    elif g==3:\n",
    "        print(\"*  * *\")\n",
    "    elif g==4:\n",
    "        print(\"*    *\")\n",
    "    elif g==5:\n",
    "        print(\" * * *\")\n",
    "    g=g+1\n"
   ]
  },
  {
   "cell_type": "code",
   "execution_count": 14,
   "id": "7f273bb7",
   "metadata": {},
   "outputs": [
    {
     "name": "stdout",
     "output_type": "stream",
     "text": [
      "*       *\n",
      "*       *\n",
      "* * * * *\n",
      "*       *\n",
      "*       *\n"
     ]
    }
   ],
   "source": [
    "h=1\n",
    "while h<=5: \n",
    "    if h==1: \n",
    "        print(\"*       *\")  \n",
    "    elif h==2: \n",
    "        print(\"*       *\")\n",
    "    elif h==3: \n",
    "        print(\"* * * * *\")\n",
    "    elif h==4:\n",
    "        print(\"*       *\") \n",
    "    elif h==5:\n",
    "        print(\"*       *\")\n",
    "    h=h+1"
   ]
  },
  {
   "cell_type": "code",
   "execution_count": 17,
   "id": "d94ea934",
   "metadata": {},
   "outputs": [
    {
     "name": "stdout",
     "output_type": "stream",
     "text": [
      "* * * * * \n",
      "    *    \n",
      "    *    \n",
      "    *    \n",
      "* * * * * \n"
     ]
    }
   ],
   "source": [
    "i=1\n",
    "while i<=5:\n",
    "    if i==1:\n",
    "        print(\"* * * * * \")\n",
    "    elif i==2:\n",
    "        print(\"    *    \")\n",
    "    elif i==3:\n",
    "        print(\"    *    \")\n",
    "    elif i==4:\n",
    "        print(\"    *    \")\n",
    "    elif i==5:\n",
    "        print(\"* * * * * \")\n",
    "    i=i+1"
   ]
  },
  {
   "cell_type": "code",
   "execution_count": 21,
   "id": "5d21206f",
   "metadata": {},
   "outputs": [
    {
     "name": "stdout",
     "output_type": "stream",
     "text": [
      "* * * * *\n",
      "    *    \n",
      "    *    \n",
      "*   *    \n",
      "* * *    \n"
     ]
    }
   ],
   "source": [
    "j=1\n",
    "while j<=5:\n",
    "    if j==1:\n",
    "        print(\"* * * * *\")\n",
    "    elif j==2:\n",
    "        print(\"    *    \")\n",
    "    elif j==3:\n",
    "        print(\"    *    \")\n",
    "    elif j==4:\n",
    "        print(\"*   *    \")\n",
    "    elif j==5:\n",
    "        print(\"* * *    \")\n",
    "    j=j+1"
   ]
  },
  {
   "cell_type": "code",
   "execution_count": 25,
   "id": "dd593da4",
   "metadata": {},
   "outputs": [
    {
     "name": "stdout",
     "output_type": "stream",
     "text": [
      "*       * \n",
      "*    *    \n",
      "* *        \n",
      "*    *    \n",
      "*       * \n"
     ]
    }
   ],
   "source": [
    "k=1\n",
    "while k<=5:\n",
    "    if k==1:\n",
    "        print(\"*       * \")\n",
    "    elif k==2:\n",
    "        print(\"*    *    \")\n",
    "    elif k==3:\n",
    "        print(\"* *        \")\n",
    "    elif k==4:\n",
    "        print(\"*    *    \")\n",
    "    elif k==5:\n",
    "        print(\"*       * \")\n",
    "    k=k+1"
   ]
  },
  {
   "cell_type": "code",
   "execution_count": 26,
   "id": "eed68bde",
   "metadata": {},
   "outputs": [
    {
     "name": "stdout",
     "output_type": "stream",
     "text": [
      "*        \n",
      "*        \n",
      "*         \n",
      "*        \n",
      "* * * * * \n"
     ]
    }
   ],
   "source": [
    " l=1\n",
    "while l<=5:\n",
    "    if l==1:\n",
    "        print(\"*        \")\n",
    "    elif l==2:\n",
    "        print(\"*        \")\n",
    "    elif l==3:\n",
    "        print(\"*         \")\n",
    "    elif l==4:\n",
    "        print(\"*        \")\n",
    "    elif l==5:\n",
    "        print(\"* * * * * \")\n",
    "    l=l+1"
   ]
  },
  {
   "cell_type": "code",
   "execution_count": 37,
   "id": "cbcf6094",
   "metadata": {},
   "outputs": [
    {
     "name": "stdout",
     "output_type": "stream",
     "text": [
      "*        *\n",
      "*  *  *  *\n",
      "*    *   *\n",
      "*        *\n",
      "*        *\n"
     ]
    }
   ],
   "source": [
    "m=1\n",
    "while m<=5:\n",
    "    if m==1:\n",
    "        print(\"*        *\")\n",
    "    elif m==2:\n",
    "        print(\"*  *  *  *\")\n",
    "    elif m==3:\n",
    "        print(\"*    *   *\")\n",
    "    elif m==4:\n",
    "        print(\"*        *\")\n",
    "    elif m==5:\n",
    "        print(\"*        *\")\n",
    "    m=m+1"
   ]
  },
  {
   "cell_type": "code",
   "execution_count": 38,
   "id": "22bfa0f2",
   "metadata": {},
   "outputs": [
    {
     "name": "stdout",
     "output_type": "stream",
     "text": [
      "*              *\n",
      "*   *          *\n",
      "*       *      *\n",
      "*          *   *\n",
      "*              *\n"
     ]
    }
   ],
   "source": [
    "n=1\n",
    "while n<=5:\n",
    "    if n==1:\n",
    "        print(\"*              *\")\n",
    "    elif n==2:\n",
    "        print(\"*   *          *\")\n",
    "    elif n==3:\n",
    "        print(\"*       *      *\")\n",
    "    elif n==4:\n",
    "        print(\"*          *   *\")\n",
    "    elif n==5:\n",
    "        print(\"*              *\")    \n",
    "    n=n+1"
   ]
  },
  {
   "cell_type": "code",
   "execution_count": 43,
   "id": "95c88c3f",
   "metadata": {},
   "outputs": [
    {
     "name": "stdout",
     "output_type": "stream",
     "text": [
      "   *  *   \n",
      "*        *\n",
      "*        *\n",
      "*        *\n",
      "   *  *   \n"
     ]
    }
   ],
   "source": [
    "o=1\n",
    "while o<=5:\n",
    "    if o==1:\n",
    "        print(\"   *  *   \")\n",
    "    elif o==2:\n",
    "        print(\"*        *\")\n",
    "    elif o==3:\n",
    "        print(\"*        *\")\n",
    "    elif o==4:\n",
    "        print(\"*        *\")\n",
    "    elif o==5:\n",
    "        print(\"   *  *   \")    \n",
    "    o=o+1"
   ]
  },
  {
   "cell_type": "code",
   "execution_count": 46,
   "id": "1d71e520",
   "metadata": {},
   "outputs": [
    {
     "name": "stdout",
     "output_type": "stream",
     "text": [
      "* * * * \n",
      "*       *\n",
      "* * * * \n",
      "*\n",
      "*\n"
     ]
    }
   ],
   "source": [
    "p=1\n",
    "while p<=5:\n",
    "    if p==1:\n",
    "        print(\"* * * * \")\n",
    "    elif p==2:\n",
    "        print(\"*       *\")\n",
    "    elif p==3:\n",
    "        print(\"* * * * \")\n",
    "    elif p==4:\n",
    "        print(\"*\")\n",
    "    elif p==5:\n",
    "        print(\"*\")    \n",
    "    p=p+1"
   ]
  },
  {
   "cell_type": "code",
   "execution_count": 53,
   "id": "3b0a1cd7",
   "metadata": {},
   "outputs": [
    {
     "name": "stdout",
     "output_type": "stream",
     "text": [
      "  * * * *  \n",
      "*         *\n",
      "*   *     *\n",
      "*     *   *\n",
      "  * * * *  \n",
      "          *\n"
     ]
    }
   ],
   "source": [
    "q=1\n",
    "while q<=6:\n",
    "    if q==1:\n",
    "        print(\"  * * * *  \")\n",
    "    elif q==2:\n",
    "        print(\"*         *\")\n",
    "    elif q==3:\n",
    "        print(\"*   *     *\")\n",
    "    elif q==4:\n",
    "        print(\"*     *   *\")\n",
    "    elif q==5:\n",
    "        print(\"  * * * *  \")\n",
    "    elif q==6:\n",
    "        print(\"          *\")\n",
    "    q=q+1"
   ]
  },
  {
   "cell_type": "code",
   "execution_count": 62,
   "id": "a122500b",
   "metadata": {},
   "outputs": [
    {
     "name": "stdout",
     "output_type": "stream",
     "text": [
      "* * * * \n",
      "*      *\n",
      "* * * \n",
      "*     *  \n",
      "*       *\n"
     ]
    }
   ],
   "source": [
    "r=1\n",
    "while r<=5:\n",
    "    if r==1:\n",
    "        print(\"* * * * \")\n",
    "    elif r==2:\n",
    "        print(\"*      *\")\n",
    "    elif r==3:\n",
    "        print(\"* * * \")\n",
    "    elif r==4:\n",
    "        print(\"*     *  \")\n",
    "    elif r==5:\n",
    "        print(\"*       *\")    \n",
    "    r=r+1"
   ]
  },
  {
   "cell_type": "code",
   "execution_count": 77,
   "id": "8bb104c9",
   "metadata": {},
   "outputs": [
    {
     "name": "stdout",
     "output_type": "stream",
     "text": [
      " * * * \n",
      "*       \n",
      " * * * \n",
      "      *  \n",
      " * * *   \n"
     ]
    }
   ],
   "source": [
    "s=1\n",
    "while s<=5:\n",
    "    if s==1:\n",
    "        print(\" * * * \")\n",
    "    elif s==2:\n",
    "        print(\"*       \")\n",
    "    elif s==3:\n",
    "        print(\" * * * \")\n",
    "    elif s==4:\n",
    "        print(\"      *  \")\n",
    "    elif s==5:\n",
    "        print(\" * * *   \")    \n",
    "    s=s+1"
   ]
  },
  {
   "cell_type": "code",
   "execution_count": 78,
   "id": "2299d46f",
   "metadata": {},
   "outputs": [
    {
     "name": "stdout",
     "output_type": "stream",
     "text": [
      " * * * * * \n",
      "     *\n",
      "     *\n",
      "     *\n",
      "     *\n"
     ]
    }
   ],
   "source": [
    "t=1\n",
    "while t<=5:\n",
    "    if t==1:\n",
    "        print(\" * * * * * \")\n",
    "    elif t==2:\n",
    "        print(\"     *\")\n",
    "    elif t==3:\n",
    "        print(\"     *\")\n",
    "    elif t==4:\n",
    "        print(\"     *\")\n",
    "    elif t==5:\n",
    "        print(\"     *\")    \n",
    "    t=t+1"
   ]
  },
  {
   "cell_type": "code",
   "execution_count": 81,
   "id": "a8c6e716",
   "metadata": {},
   "outputs": [
    {
     "name": "stdout",
     "output_type": "stream",
     "text": [
      "*     *\n",
      "*     *\n",
      "*     *\n",
      "*     *\n",
      "* * * *\n"
     ]
    }
   ],
   "source": [
    "u=1\n",
    "while u<=5:\n",
    "    if u==1:\n",
    "        print(\"*     *\")\n",
    "    elif u==2:\n",
    "        print(\"*     *\")\n",
    "    elif u==3:\n",
    "        print(\"*     *\")\n",
    "    elif u==4:\n",
    "        print(\"*     *\")\n",
    "    elif u==5:\n",
    "        print(\"* * * *\")    \n",
    "    u=u+1"
   ]
  },
  {
   "cell_type": "code",
   "execution_count": 117,
   "id": "961ab6e3",
   "metadata": {},
   "outputs": [
    {
     "name": "stdout",
     "output_type": "stream",
     "text": [
      "*               *\n",
      "  *           *\n",
      "    *       *\n",
      "      *   *\n",
      "        *\n"
     ]
    }
   ],
   "source": [
    "v=1\n",
    "while v<=5:\n",
    "    if v==1: \n",
    "        print(\"*               *\")\n",
    "    elif v==2:\n",
    "        print(\"  *           *\")\n",
    "    elif v==3:\n",
    "        print(\"    *       *\")\n",
    "    elif v==4:   \n",
    "        print(\"      *   *\")\n",
    "    elif v==5:\n",
    "        print(\"        *\")    \n",
    "    v=v+1"
   ]
  },
  {
   "cell_type": "code",
   "execution_count": 102,
   "id": "7101b79f",
   "metadata": {},
   "outputs": [
    {
     "name": "stdout",
     "output_type": "stream",
     "text": [
      "*           *\n",
      "*           *\n",
      "*     *     *\n",
      "*  *     *  *\n",
      "*           *\n"
     ]
    }
   ],
   "source": [
    "w=1\n",
    "while w<=5:\n",
    "    if w==1:\n",
    "        print(\"*           *\")\n",
    "    elif w==2:\n",
    "        print(\"*           *\")\n",
    "    elif w==3: \n",
    "        print(\"*     *     *\")\n",
    "    elif w==4:\n",
    "        print(\"*  *     *  *\")\n",
    "    elif w==5:\n",
    "        print(\"*           *\")    \n",
    "    w=w+1"
   ]
  },
  {
   "cell_type": "code",
   "execution_count": 106,
   "id": "53ca16c3",
   "metadata": {},
   "outputs": [
    {
     "name": "stdout",
     "output_type": "stream",
     "text": [
      "*          *\n",
      "   *    *   \n",
      "     *     \n",
      "  *     *  \n",
      "*          *\n"
     ]
    }
   ],
   "source": [
    "x=1\n",
    "while x<=5:\n",
    "    if x==1:\n",
    "        print(\"*          *\")\n",
    "    elif x==2:\n",
    "        print(\"   *    *   \")\n",
    "    elif x==3: \n",
    "        print(\"     *     \")\n",
    "    elif x==4:\n",
    "        print(\"  *     *  \")\n",
    "    elif x==5:\n",
    "        print(\"*          *\")    \n",
    "    x=x+1"
   ]
  },
  {
   "cell_type": "code",
   "execution_count": 114,
   "id": "5532b81b",
   "metadata": {},
   "outputs": [
    {
     "name": "stdout",
     "output_type": "stream",
     "text": [
      "*         *\n",
      "  *     *   \n",
      "     *    \n",
      "     *  \n",
      "     *\n"
     ]
    }
   ],
   "source": [
    "y=1\n",
    "while y<=5:\n",
    "    if y==1:\n",
    "        print(\"*         *\")\n",
    "    elif y==2:\n",
    "        print(\"  *     *   \")\n",
    "    elif y==3: \n",
    "        print(\"     *    \")\n",
    "    elif y==4:\n",
    "        print(\"     *  \")\n",
    "    elif y==5:\n",
    "        print(\"     *\")    \n",
    "    y=y+1"
   ]
  },
  {
   "cell_type": "code",
   "execution_count": 115,
   "id": "1d24fb84",
   "metadata": {},
   "outputs": [
    {
     "name": "stdout",
     "output_type": "stream",
     "text": [
      "* * * * *\n",
      "      *\n",
      "    *\n",
      " *\n",
      "* * * * *\n"
     ]
    }
   ],
   "source": [
    "z=1\n",
    "while z<=5:\n",
    "    if z==1:\n",
    "        print(\"* * * * *\")\n",
    "    elif z==2:\n",
    "        print(\"      *\")\n",
    "    elif z==3:\n",
    "        print(\"    *\")\n",
    "    elif z==4:\n",
    "        print(\" *\")\n",
    "    elif z==5:\n",
    "        print(\"* * * * *\")\n",
    "    z=z+1"
   ]
  },
  {
   "cell_type": "code",
   "execution_count": null,
   "id": "18417895",
   "metadata": {},
   "outputs": [],
   "source": []
  }
 ],
 "metadata": {
  "kernelspec": {
   "display_name": "Python 3 (ipykernel)",
   "language": "python",
   "name": "python3"
  },
  "language_info": {
   "codemirror_mode": {
    "name": "ipython",
    "version": 3
   },
   "file_extension": ".py",
   "mimetype": "text/x-python",
   "name": "python",
   "nbconvert_exporter": "python",
   "pygments_lexer": "ipython3",
   "version": "3.9.13"
  }
 },
 "nbformat": 4,
 "nbformat_minor": 5
}
